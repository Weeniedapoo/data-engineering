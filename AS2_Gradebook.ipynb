{
 "cells": [
  {
   "cell_type": "code",
   "execution_count": 1,
   "id": "58535803-9b10-43ba-be9c-cbf26ef8c01f",
   "metadata": {},
   "outputs": [],
   "source": [
    "subjects = [\"physics\", \"calculus\", \"poetry\", \"history\"]\n",
    "grades = [98, 97, 85, 88]"
   ]
  },
  {
   "cell_type": "code",
   "execution_count": 2,
   "id": "2195b209-cc99-4d60-9ff7-05bc65c66c4f",
   "metadata": {},
   "outputs": [],
   "source": [
    "gradebook = [[\"physics\", 98], [\"calculus\", 97], [\"poetry\", 85], [\"history\", 88]]\n"
   ]
  },
  {
   "cell_type": "code",
   "execution_count": 3,
   "id": "843b5be5-e5d8-41b1-904b-b619bcd20570",
   "metadata": {},
   "outputs": [
    {
     "name": "stdout",
     "output_type": "stream",
     "text": [
      "Initial Gradebook:\n",
      "[['physics', 98], ['calculus', 97], ['poetry', 85], ['history', 88]]\n"
     ]
    }
   ],
   "source": [
    "print(\"Initial Gradebook:\")\n",
    "print(gradebook)"
   ]
  },
  {
   "cell_type": "code",
   "execution_count": 4,
   "id": "7614d40f-b3cb-454d-b50e-6143f741dca3",
   "metadata": {},
   "outputs": [],
   "source": [
    "gradebook.append([\"computer science\", 100])\n",
    "gradebook.append([\"visual arts\", 93])"
   ]
  },
  {
   "cell_type": "code",
   "execution_count": 5,
   "id": "4e07fd95-9c3d-415d-b3c5-cc726003fcf9",
   "metadata": {},
   "outputs": [
    {
     "name": "stdout",
     "output_type": "stream",
     "text": [
      "\n",
      "Updated Gradebook with Computer Science and Visual Arts:\n",
      "[['physics', 98], ['calculus', 97], ['poetry', 85], ['history', 88], ['computer science', 100], ['visual arts', 93]]\n"
     ]
    }
   ],
   "source": [
    "print(\"\\nUpdated Gradebook with Computer Science and Visual Arts:\")\n",
    "print(gradebook)"
   ]
  },
  {
   "cell_type": "code",
   "execution_count": 6,
   "id": "b3cd1055-2f26-41a5-931d-d8e20a568665",
   "metadata": {},
   "outputs": [],
   "source": [
    "gradebook[-1][1] += 5"
   ]
  },
  {
   "cell_type": "code",
   "execution_count": 7,
   "id": "e943c472-4e6c-45a6-8aab-ccf0eecd13be",
   "metadata": {},
   "outputs": [],
   "source": [
    "poetry_index = next(i for i, sublist in enumerate(gradebook) if sublist[0] == \"poetry\")\n",
    "gradebook[poetry_index].remove(85)\n",
    "gradebook[poetry_index].append(\"Pass\")"
   ]
  },
  {
   "cell_type": "code",
   "execution_count": 8,
   "id": "78263451-8de5-46d4-9030-e8b45e04d65b",
   "metadata": {},
   "outputs": [
    {
     "name": "stdout",
     "output_type": "stream",
     "text": [
      "\n",
      "Modified Gradebook:\n",
      "[['physics', 98], ['calculus', 97], ['poetry', 'Pass'], ['history', 88], ['computer science', 100], ['visual arts', 98]]\n"
     ]
    }
   ],
   "source": [
    "print(\"\\nModified Gradebook:\")\n",
    "print(gradebook)"
   ]
  },
  {
   "cell_type": "code",
   "execution_count": 9,
   "id": "97afa2a1-c27b-405a-a83c-2a6e0efcbe83",
   "metadata": {},
   "outputs": [],
   "source": [
    "last_semester_gradebook = [[\"politics\", 80], [\"latin\", 96], [\"dance\", 97], [\"architecture\", 65]]"
   ]
  },
  {
   "cell_type": "code",
   "execution_count": 10,
   "id": "17d06d81-2d4b-4773-abc5-48d4584ba842",
   "metadata": {},
   "outputs": [],
   "source": [
    "full_gradebook = last_semester_gradebook + gradebook"
   ]
  },
  {
   "cell_type": "code",
   "execution_count": 11,
   "id": "3a39efbd-3266-4026-8392-ce42ece7ee9b",
   "metadata": {},
   "outputs": [
    {
     "name": "stdout",
     "output_type": "stream",
     "text": [
      "\n",
      "Full Gradebook:\n",
      "[['politics', 80], ['latin', 96], ['dance', 97], ['architecture', 65], ['physics', 98], ['calculus', 97], ['poetry', 'Pass'], ['history', 88], ['computer science', 100], ['visual arts', 98]]\n"
     ]
    }
   ],
   "source": [
    "print(\"\\nFull Gradebook:\")\n",
    "print(full_gradebook)\n"
   ]
  },
  {
   "cell_type": "code",
   "execution_count": null,
   "id": "8d891074-0e96-4ecb-b2dd-b4f916926542",
   "metadata": {},
   "outputs": [],
   "source": []
  }
 ],
 "metadata": {
  "kernelspec": {
   "display_name": "Python 3 (ipykernel)",
   "language": "python",
   "name": "python3"
  },
  "language_info": {
   "codemirror_mode": {
    "name": "ipython",
    "version": 3
   },
   "file_extension": ".py",
   "mimetype": "text/x-python",
   "name": "python",
   "nbconvert_exporter": "python",
   "pygments_lexer": "ipython3",
   "version": "3.12.7"
  }
 },
 "nbformat": 4,
 "nbformat_minor": 5
}
