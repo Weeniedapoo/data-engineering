{
 "cells": [
  {
   "cell_type": "code",
   "execution_count": 1,
   "id": "8b144c8f-8fac-46a8-b552-f81cb13df603",
   "metadata": {},
   "outputs": [],
   "source": [
    "hairstyles = [\"bouffant\", \"pixie\", \"dreadlocks\", \"crew\", \"bowl\", \"bob\", \"mohawk\", \"flattop\"]\n",
    "prices = [30, 25, 40, 20, 20, 35, 50, 35]\n",
    "last_week = [2, 3, 5, 8, 4, 4, 6, 2]"
   ]
  },
  {
   "cell_type": "code",
   "execution_count": 2,
   "id": "0ce8818b-ecd1-4860-ad5d-609a6372b6e5",
   "metadata": {},
   "outputs": [],
   "source": [
    "total_price = 0"
   ]
  },
  {
   "cell_type": "code",
   "execution_count": 3,
   "id": "2bc84b51-4ef1-4e06-a775-d8b45238c129",
   "metadata": {},
   "outputs": [],
   "source": [
    "for price in prices:\n",
    "    total_price += price"
   ]
  },
  {
   "cell_type": "code",
   "execution_count": 4,
   "id": "4af49726-e81d-4ccb-a79c-2cec2d162629",
   "metadata": {},
   "outputs": [],
   "source": [
    "average_price = total_price / len(prices)"
   ]
  },
  {
   "cell_type": "code",
   "execution_count": 5,
   "id": "f2373699-f833-456d-8d77-8b16c45cdfc2",
   "metadata": {},
   "outputs": [
    {
     "name": "stdout",
     "output_type": "stream",
     "text": [
      "Average price is 31.875\n"
     ]
    }
   ],
   "source": [
    "print(\"Average price is\", average_price)"
   ]
  },
  {
   "cell_type": "code",
   "execution_count": 6,
   "id": "bd249e68-a745-4879-b457-232704b50270",
   "metadata": {},
   "outputs": [],
   "source": [
    "# 5. Create new prices list with $5 discount\n",
    "new_prices = [price - 5 for price in prices]"
   ]
  },
  {
   "cell_type": "code",
   "execution_count": 7,
   "id": "6b1ea248-c801-4dcd-ab1c-c0167bc31120",
   "metadata": {},
   "outputs": [
    {
     "name": "stdout",
     "output_type": "stream",
     "text": [
      "\n",
      "New prices: [25, 20, 35, 15, 15, 30, 45, 30]\n"
     ]
    }
   ],
   "source": [
    "print(\"\\nNew prices:\", new_prices)"
   ]
  },
  {
   "cell_type": "code",
   "execution_count": 8,
   "id": "a602da6a-f5cc-4e0d-85ce-157c624b667c",
   "metadata": {},
   "outputs": [],
   "source": [
    "total_revenue = 0"
   ]
  },
  {
   "cell_type": "code",
   "execution_count": 9,
   "id": "d610b475-cc69-4d71-ac17-20428b9fbbd1",
   "metadata": {},
   "outputs": [],
   "source": [
    "for i in range(len(hairstyles)):\n",
    "    total_revenue += prices[i] * last_week[i]"
   ]
  },
  {
   "cell_type": "code",
   "execution_count": 10,
   "id": "615bbd14-e46e-49c6-ad91-3198e26eb2a1",
   "metadata": {},
   "outputs": [
    {
     "name": "stdout",
     "output_type": "stream",
     "text": [
      "\n",
      "Total revenue: 1085\n"
     ]
    }
   ],
   "source": [
    "print(\"\\nTotal revenue:\", total_revenue)"
   ]
  },
  {
   "cell_type": "code",
   "execution_count": 11,
   "id": "d775df68-c779-40e3-9e5c-396cf96e9c8c",
   "metadata": {},
   "outputs": [
    {
     "name": "stdout",
     "output_type": "stream",
     "text": [
      "\n",
      "Average daily revenue is 155.0\n"
     ]
    }
   ],
   "source": [
    "average_daily_revenue = total_revenue / 7\n",
    "print(\"\\nAverage daily revenue is\", average_daily_revenue)"
   ]
  },
  {
   "cell_type": "code",
   "execution_count": 12,
   "id": "dacfd2cb-8c3d-4138-bd70-b9cc02129efa",
   "metadata": {},
   "outputs": [],
   "source": [
    "cuts_under_30 = [hairstyles[i] for i in range(len(new_prices)) if new_prices[i] < 30]"
   ]
  },
  {
   "cell_type": "code",
   "execution_count": 13,
   "id": "0a6ed831-5d0b-410c-87d1-31e44f8702d5",
   "metadata": {},
   "outputs": [
    {
     "name": "stdout",
     "output_type": "stream",
     "text": [
      "\n",
      "Cuts under $30: ['bouffant', 'pixie', 'crew', 'bowl']\n"
     ]
    }
   ],
   "source": [
    "print(\"\\nCuts under $30:\", cuts_under_30)"
   ]
  },
  {
   "cell_type": "code",
   "execution_count": null,
   "id": "e4bb5d42-b881-4368-a8b3-64289a805c8b",
   "metadata": {},
   "outputs": [],
   "source": []
  }
 ],
 "metadata": {
  "kernelspec": {
   "display_name": "Python 3 (ipykernel)",
   "language": "python",
   "name": "python3"
  },
  "language_info": {
   "codemirror_mode": {
    "name": "ipython",
    "version": 3
   },
   "file_extension": ".py",
   "mimetype": "text/x-python",
   "name": "python",
   "nbconvert_exporter": "python",
   "pygments_lexer": "ipython3",
   "version": "3.12.7"
  }
 },
 "nbformat": 4,
 "nbformat_minor": 5
}
