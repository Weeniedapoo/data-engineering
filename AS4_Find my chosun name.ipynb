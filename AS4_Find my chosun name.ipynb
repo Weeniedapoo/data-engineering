{
 "cells": [
  {
   "cell_type": "code",
   "execution_count": 33,
   "id": "06b70b06-0f63-4af5-af80-9a09cf3d58a6",
   "metadata": {},
   "outputs": [
    {
     "name": "stdout",
     "output_type": "stream",
     "text": [
      "['쌍', '쇠', '복', '돌', '팽', '육', '쌍', '개', '칠', '갑', '삼', '방']\n"
     ]
    }
   ],
   "source": [
    "month_list = ['쌍', '쇠', '복', '돌', '팽', '육', '쌍', '개', '칠', '갑', '삼', '방']\n",
    "print(month_list)"
   ]
  },
  {
   "cell_type": "code",
   "execution_count": 34,
   "id": "343c5a11-1c8c-4835-ace0-d53a9b563bb2",
   "metadata": {},
   "outputs": [
    {
     "name": "stdout",
     "output_type": "stream",
     "text": [
      "['봉', '구', '욕', '포', '똥', '삼', '식', '석', '놈', '님', '년', '돌', '단', '득', '방', '질', '장', '걸', '래', '룡', '동', '순', '자', '박', '창', '언', '것', '포', '만', '단', '국']\n"
     ]
    }
   ],
   "source": [
    "day_list = ['봉', '구', '욕', '포', '똥', '삼', '식', '석', '놈', '님', '년', '돌', '단', '득', '방', '질', '장', '걸', '래', '룡', '동', '순', '자', '박', '창', '언', '것', '포', '만', '단', '국']\n",
    "print(day_list) "
   ]
  },
  {
   "cell_type": "code",
   "execution_count": 37,
   "id": "653df636-3e0e-4fe5-b2ee-3ec3ce9dd846",
   "metadata": {},
   "outputs": [],
   "source": [
    "def get_my_chosun_name(family_name, month, day):\n",
    "    first_character = month_list[month - 1]\n",
    "    second_character = day_list[day - 1]  \n",
    "    chosun_name = family_name + first_character + second_character \n",
    "    return f\"당신의 조선시대 이름은 {chosun_name} 입니다.\""
   ]
  },
  {
   "cell_type": "code",
   "execution_count": 40,
   "id": "217cf875-3180-4a2c-a9e3-8babf7d82361",
   "metadata": {},
   "outputs": [
    {
     "name": "stdout",
     "output_type": "stream",
     "text": [
      "당신의 조선시대 이름은 윤복장 입니다.\n"
     ]
    }
   ],
   "source": [
    "family_name = '윤'\n",
    "month = 3\n",
    "day = 17\n",
    "print(get_my_chosun_name(family_name, month, day))"
   ]
  },
  {
   "cell_type": "code",
   "execution_count": null,
   "id": "b05a3344-c5a9-4b6a-b483-4a037f28ab36",
   "metadata": {},
   "outputs": [],
   "source": []
  },
  {
   "cell_type": "code",
   "execution_count": null,
   "id": "be7fe481-9351-4a96-8e69-3a3cd6014b1d",
   "metadata": {},
   "outputs": [],
   "source": []
  },
  {
   "cell_type": "code",
   "execution_count": null,
   "id": "106154b2-f459-4d1b-8b69-c4d4d8e2660f",
   "metadata": {},
   "outputs": [],
   "source": []
  }
 ],
 "metadata": {
  "kernelspec": {
   "display_name": "Python 3 (ipykernel)",
   "language": "python",
   "name": "python3"
  },
  "language_info": {
   "codemirror_mode": {
    "name": "ipython",
    "version": 3
   },
   "file_extension": ".py",
   "mimetype": "text/x-python",
   "name": "python",
   "nbconvert_exporter": "python",
   "pygments_lexer": "ipython3",
   "version": "3.12.7"
  }
 },
 "nbformat": 4,
 "nbformat_minor": 5
}
